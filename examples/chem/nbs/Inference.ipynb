{
 "cells": [
  {
   "cell_type": "markdown",
   "id": "1a0b535a",
   "metadata": {},
   "source": [
    "# Inference Sample\n",
    "\n",
    "Copyright (c) 2022, NVIDIA CORPORATION. Licensed under the Apache License, Version 2.0 (the \"License\") you may not use this file except in compliance with the License. You may obtain a copy of the License at\n",
    "\n",
    "http://www.apache.org/licenses/LICENSE-2.0 \n",
    "\n",
    "Unless required by applicable law or agreed to in writing, software distributed under the License is distributed on an \"AS IS\" BASIS, WITHOUT WARRANTIES OR CONDITIONS OF ANY KIND, either express or implied. See the License for the specific language governing permissions and limitations under the License.\n",
    "\n",
    "### Prerequisite\n",
    "* Linux OS\n",
    "* Pascal, Volta, Turing, or an NVIDIA Ampere architecture-based GPU.\n",
    "* Nvidia Driver\n",
    "* Docker\n",
    "\n",
    "### Import\n",
    "Components for inferencing is part of NeMo-MegaMolBART source code. This notebook demonstrates the use of these components.\n",
    "\n",
    "MegaMolBARTInferer implements following functions:\n",
    "* `smis_to_hidden`\n",
    "* `smis_to_embedding`\n",
    "* `hidden_to_smis`"
   ]
  },
  {
   "cell_type": "code",
   "execution_count": 1,
   "id": "b7eb25c1",
   "metadata": {},
   "outputs": [],
   "source": [
    "from infer import InferenceWrapper\n",
    "\n",
    "import logging\n",
    "import warnings\n",
    "warnings.filterwarnings('ignore')\n",
    "warnings.simplefilter('ignore')"
   ]
  },
  {
   "cell_type": "markdown",
   "id": "6b1cb484",
   "metadata": {},
   "source": [
    "### Setup and Test Data\n",
    "\n",
    "`InferenceWrapper` is an adaptor that allows interaction with inference service."
   ]
  },
  {
   "cell_type": "code",
   "execution_count": 2,
   "id": "35491943",
   "metadata": {},
   "outputs": [],
   "source": [
    "connection = InferenceWrapper()\n",
    "\n",
    "smis = ['c1cc2ccccc2cc1',\n",
    "        'COc1cc2nc(N3CCN(C(=O)c4ccco4)CC3)nc(N)c2cc1OC']\n"
   ]
  },
  {
   "cell_type": "markdown",
   "id": "eff034b0",
   "metadata": {},
   "source": [
    "### SMILES to hidden state\n",
    "\n",
    "`smis_to_hidden` queries the model to fetch the latent space representation of the SMILES."
   ]
  },
  {
   "cell_type": "code",
   "execution_count": 3,
   "id": "01219b13",
   "metadata": {},
   "outputs": [
    {
     "data": {
      "text/plain": [
       "(torch.Size([2, 45, 512]), torch.Size([2, 45]))"
      ]
     },
     "execution_count": 3,
     "metadata": {},
     "output_type": "execute_result"
    }
   ],
   "source": [
    "hidden_states, pad_masks = connection.smis_to_hidden(smis)\n",
    "hidden_states.shape, pad_masks.shape"
   ]
  },
  {
   "cell_type": "markdown",
   "id": "8e3a4bf5",
   "metadata": {},
   "source": [
    "### SMILES to Embedding\n",
    "\n",
    "`smis_to_embedding` queries the model to fetch the encoder embedding for the input SMILES."
   ]
  },
  {
   "cell_type": "code",
   "execution_count": 4,
   "id": "efdf9cf6",
   "metadata": {},
   "outputs": [
    {
     "data": {
      "text/plain": [
       "torch.Size([2, 512])"
      ]
     },
     "execution_count": 4,
     "metadata": {},
     "output_type": "execute_result"
    }
   ],
   "source": [
    "embedding = connection.smis_to_embedding(smis)\n",
    "embedding.shape"
   ]
  },
  {
   "cell_type": "markdown",
   "id": "9bbd842c",
   "metadata": {},
   "source": [
    "### Hidden state to SMILES\n",
    "\n",
    "`hidden_to_smis` decodes the latent space representation back to SMILES."
   ]
  },
  {
   "cell_type": "code",
   "execution_count": 6,
   "id": "6cff6fb5",
   "metadata": {},
   "outputs": [
    {
     "data": {
      "text/plain": [
       "['c1cc2ccccc2cc1', 'COc1cc2nc(N3CCN(C(=O)c4ccco4)CC3)nc(N)c2cc1OC']"
      ]
     },
     "execution_count": 6,
     "metadata": {},
     "output_type": "execute_result"
    }
   ],
   "source": [
    "infered_smis = connection.hidden_to_smis(hidden_states, pad_masks)\n",
    "infered_smis"
   ]
  }
 ],
 "metadata": {
  "kernelspec": {
   "display_name": "base",
   "language": "python",
   "name": "base"
  },
  "language_info": {
   "codemirror_mode": {
    "name": "ipython",
    "version": 3
   },
   "file_extension": ".py",
   "mimetype": "text/x-python",
   "name": "python",
   "nbconvert_exporter": "python",
   "pygments_lexer": "ipython3",
   "version": "3.8.13"
  }
 },
 "nbformat": 4,
 "nbformat_minor": 5
}
